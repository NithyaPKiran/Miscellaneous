{
  "nbformat": 4,
  "nbformat_minor": 0,
  "metadata": {
    "colab": {
      "provenance": []
    },
    "kernelspec": {
      "name": "python3",
      "display_name": "Python 3"
    },
    "language_info": {
      "name": "python"
    }
  },
  "cells": [
    {
      "cell_type": "markdown",
      "source": [
        "Assessment 1"
      ],
      "metadata": {
        "id": "QaWGS9UMis-f"
      }
    },
    {
      "cell_type": "code",
      "execution_count": 1,
      "metadata": {
        "id": "vJD-ssaFfY-Y"
      },
      "outputs": [],
      "source": [
        "import pandas as pd"
      ]
    },
    {
      "cell_type": "code",
      "source": [
        "# Sample dataset\n",
        "data = {\n",
        "    'Transaction_ID': [1, 2, 3, 4, 5],\n",
        "    'Product': ['A', 'B', 'A', 'C', 'B'],\n",
        "    'Quantity': [10, 5, 2, 8, 7],\n",
        "    'Price_per_Unit': [100, 200, 100, 300, 200]\n",
        "}"
      ],
      "metadata": {
        "id": "f6J5v_ABfs0L"
      },
      "execution_count": 2,
      "outputs": []
    },
    {
      "cell_type": "code",
      "source": [
        "# Create a pandas DataFrame\n",
        "df = pd.DataFrame(data)"
      ],
      "metadata": {
        "id": "tDlbP-CcfvGe"
      },
      "execution_count": 3,
      "outputs": []
    },
    {
      "cell_type": "code",
      "source": [
        "# Function to calculate the average revenue per transaction\n",
        "def calculate_average_revenue(df):\n",
        "    df['Revenue'] = df['Quantity'] * df['Price_per_Unit']\n",
        "    average_revenue = df['Revenue'].mean()\n",
        "    return average_revenue"
      ],
      "metadata": {
        "id": "lo8cKC_Cf5MS"
      },
      "execution_count": 4,
      "outputs": []
    },
    {
      "cell_type": "code",
      "source": [
        "# Calculate and print average revenue per transaction\n",
        "average_revenue = calculate_average_revenue(df)\n",
        "print(average_revenue)"
      ],
      "metadata": {
        "colab": {
          "base_uri": "https://localhost:8080/"
        },
        "id": "xUPdgko9f_HU",
        "outputId": "d89dc63b-3a2a-432d-84f6-082459fb2671"
      },
      "execution_count": 5,
      "outputs": [
        {
          "output_type": "stream",
          "name": "stdout",
          "text": [
            "1200.0\n"
          ]
        }
      ]
    },
    {
      "cell_type": "markdown",
      "source": [
        "Assessment 2"
      ],
      "metadata": {
        "id": "VH4DeHFhiwTU"
      }
    },
    {
      "cell_type": "code",
      "source": [
        "import pandas as pd"
      ],
      "metadata": {
        "id": "L6S97ZXliwAN"
      },
      "execution_count": 6,
      "outputs": []
    },
    {
      "cell_type": "code",
      "source": [
        "# Sample dataset\n",
        "data = {\n",
        "    'Transaction_ID': [1, 2, 3],\n",
        "    'Date': ['2023-08-01', '2023-08-02', '2023-08-03'],\n",
        "    'Product': ['Product A', 'Product B', 'Product C'],\n",
        "    'Quantity': [5, 10, 2],\n",
        "    'Price_per_Unit': [100, 50, 200]\n",
        "}"
      ],
      "metadata": {
        "id": "aP39qnJbi46-"
      },
      "execution_count": 7,
      "outputs": []
    },
    {
      "cell_type": "code",
      "source": [
        "# Create a pandas DataFrame\n",
        "df = pd.DataFrame(data)"
      ],
      "metadata": {
        "id": "sf-sNwFIi8SQ"
      },
      "execution_count": 8,
      "outputs": []
    },
    {
      "cell_type": "code",
      "source": [
        "# Define the function to calculate total revenue\n",
        "def calculate_total_revenue(df):\n",
        "    df['Total_Price'] = df['Quantity'] * df['Price_per_Unit']\n",
        "    total_revenue = df['Total_Price'].sum()\n",
        "    return total_revenue"
      ],
      "metadata": {
        "id": "Wc6dFTgmi-ze"
      },
      "execution_count": 9,
      "outputs": []
    },
    {
      "cell_type": "code",
      "source": [
        "# Calculate the total revenue\n",
        "total_revenue = calculate_total_revenue(df)\n",
        "print(f\"The total revenue is: {total_revenue}\")"
      ],
      "metadata": {
        "colab": {
          "base_uri": "https://localhost:8080/"
        },
        "id": "cCvWzgIUjBH9",
        "outputId": "bea19bff-6afb-4bbb-d7e6-f40bd92d6737"
      },
      "execution_count": 10,
      "outputs": [
        {
          "output_type": "stream",
          "name": "stdout",
          "text": [
            "The total revenue is: 1400\n"
          ]
        }
      ]
    },
    {
      "cell_type": "code",
      "source": [],
      "metadata": {
        "id": "5Xil9lmYjDwx"
      },
      "execution_count": 10,
      "outputs": []
    }
  ]
}